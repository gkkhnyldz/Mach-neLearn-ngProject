{
  "nbformat": 4,
  "nbformat_minor": 0,
  "metadata": {
    "colab": {
      "provenance": [],
      "authorship_tag": "ABX9TyPYNiNVb+Mt+1F5isWpRFlD",
      "include_colab_link": true
    },
    "kernelspec": {
      "name": "python3",
      "display_name": "Python 3"
    },
    "language_info": {
      "name": "python"
    }
  },
  "cells": [
    {
      "cell_type": "markdown",
      "metadata": {
        "id": "view-in-github",
        "colab_type": "text"
      },
      "source": [
        "<a href=\"https://colab.research.google.com/github/gkkhnyldz/MachineLearningLessonsProject/blob/main/Ham%26SpamMailDetect.ipynb\" target=\"_parent\"><img src=\"https://colab.research.google.com/assets/colab-badge.svg\" alt=\"Open In Colab\"/></a>"
      ]
    },
    {
      "cell_type": "code",
      "source": [
        "##First, we scan our spam data. After reading our data with the read_csv command, we get information about the status of our data with the df.info command.\n",
        "import pandas as pd\n",
        "\n",
        "df = pd.read_csv('spamData.csv', encoding='latin-1')\n",
        "\n",
        "df.info()\n",
        "\n",
        "## columns 2,3 and 4 contain unnamed, missing information. We remove this data with the drop command.###df.drop(df.columns[4], axis=1, inplace=True)\n",
        "\n",
        "df.drop(df.columns[3], axis=1, inplace=True)\n",
        "df.drop(df.columns[2], axis=1, inplace=True)\n",
        "df.info()"
      ],
      "metadata": {
        "colab": {
          "base_uri": "https://localhost:8080/"
        },
        "id": "vv_w-FWRpImn",
        "outputId": "34cfc5e5-5abb-4a32-c6d2-ea5bc6289ab8"
      },
      "execution_count": 4,
      "outputs": [
        {
          "output_type": "stream",
          "name": "stdout",
          "text": [
            "<class 'pandas.core.frame.DataFrame'>\n",
            "RangeIndex: 5572 entries, 0 to 5571\n",
            "Data columns (total 5 columns):\n",
            " #   Column      Non-Null Count  Dtype \n",
            "---  ------      --------------  ----- \n",
            " 0   target      5572 non-null   object\n",
            " 1   rawText     5572 non-null   object\n",
            " 2   Unnamed: 2  50 non-null     object\n",
            " 3   Unnamed: 3  12 non-null     object\n",
            " 4   Unnamed: 4  6 non-null      object\n",
            "dtypes: object(5)\n",
            "memory usage: 217.8+ KB\n",
            "<class 'pandas.core.frame.DataFrame'>\n",
            "RangeIndex: 5572 entries, 0 to 5571\n",
            "Data columns (total 2 columns):\n",
            " #   Column   Non-Null Count  Dtype \n",
            "---  ------   --------------  ----- \n",
            " 0   target   5572 non-null   object\n",
            " 1   rawText  5572 non-null   object\n",
            "dtypes: object(2)\n",
            "memory usage: 87.2+ KB\n"
          ]
        }
      ]
    },
    {
      "cell_type": "code",
      "source": [
        "import numpy as np\n",
        "\n",
        "np.unique(df.target)\n",
        "\n",
        "x = list(df['rawText'])\n",
        "y = list(df['target'])\n",
        "\n",
        "#Here with the class called tokenizer, we correct the data that disrupts the homogeneity such as gaps in our data and make our data more workable.\n",
        "class tokenizer:\n",
        "    def __init__(self, text_data):\n",
        "        self.vocab = {}\n",
        "        self.__get_vocab(text_data)\n",
        "        \n",
        "    def convert_text_dataset_to_matrix(self, X):\n",
        "        vocab = self.vocab\n",
        "        result = []       \n",
        "        for text in tqdm(X):\n",
        "            vector = self.__text_to_vector(text)\n",
        "            result.append(vector)\n",
        "        return result\n",
        "    \n",
        "    def __get_vocab(self, text_data):\n",
        "        word_id = 0\n",
        "        for text in text_data:\n",
        "            words = text.split()\n",
        "            for word in words:\n",
        "                word = word.lower()\n",
        "                if word not in self.vocab:\n",
        "                    self.vocab[word] = word_id\n",
        "                    word_id += 1\n",
        "        print(f'Dictionary size : {len(self.vocab)}')\n",
        "    \n",
        "    def __text_to_vector(self, text):\n",
        "        vocab = self.vocab\n",
        "        result = list(np.zeros(len(vocab)))\n",
        "        words = text.split()\n",
        "        for word in words:\n",
        "            word = word.lower()\n",
        "            if word in vocab:\n",
        "                result[vocab[word]] += 1\n",
        "        return result\n",
        "\n",
        "from tqdm import tqdm\n",
        "tz = tokenizer(x)\n",
        "\"\"\"With the convert_text_dataset_to_matrix(x) command here, we are now processing your data and defining the processed data to x\"\"\"\n",
        "\n",
        "X = tz.convert_text_dataset_to_matrix(x)"
      ],
      "metadata": {
        "colab": {
          "base_uri": "https://localhost:8080/"
        },
        "id": "koRMbnWup_HJ",
        "outputId": "1a125c4b-711b-4709-cb2f-bf2bc5626436"
      },
      "execution_count": 5,
      "outputs": [
        {
          "output_type": "stream",
          "name": "stdout",
          "text": [
            "Dictionary size : 13496\n"
          ]
        },
        {
          "output_type": "stream",
          "name": "stderr",
          "text": [
            "100%|██████████| 5572/5572 [00:08<00:00, 620.15it/s]\n"
          ]
        }
      ]
    },
    {
      "cell_type": "code",
      "source": [
        "from sklearn.model_selection import train_test_split\n",
        "#We classify our data over knn by calling the Knn algorithm from the #Sklearn library\n",
        "X_train, X_test, y_train, y_test = train_test_split(X, y, test_size=0.3, random_state=123)\n",
        "\n",
        "from sklearn.neighbors import KNeighborsClassifier\n",
        "from sklearn import metrics\n",
        "\n",
        "knn = KNeighborsClassifier(n_neighbors=1)\n",
        "knn.fit(X_train, y_train)\n",
        "\n",
        "y_pred_knn= knn.predict(X_test)\n",
        "\n",
        "print(\"Test accuracy score for KNN classification is: \",metrics.accuracy_score(y_test, y_pred_knn))"
      ],
      "metadata": {
        "colab": {
          "base_uri": "https://localhost:8080/"
        },
        "id": "7lrpSxWrqXvj",
        "outputId": "d5b6fa9f-d67b-417d-942e-8fdc92be8a8a"
      },
      "execution_count": 6,
      "outputs": [
        {
          "output_type": "stream",
          "name": "stdout",
          "text": [
            "Test accuracy score for KNN classification is:  0.9533492822966507\n"
          ]
        }
      ]
    },
    {
      "cell_type": "code",
      "source": [
        "##Here again, we call the svm classifier from the sklearn library and get the results.\"\"\"\n",
        "\n",
        "from sklearn import svm\n",
        "\n",
        "svm = svm.SVC(kernel='linear', probability=True)\n",
        "svm.fit(X_train, y_train)\n",
        "y_pred_svm = svm.predict(X_test)\n",
        "\n",
        "\n",
        "print(\"Test accuracy score for SVM classification is: \",metrics.accuracy_score(y_test, y_pred_svm))"
      ],
      "metadata": {
        "colab": {
          "base_uri": "https://localhost:8080/"
        },
        "id": "4yKA6Ddbqc-w",
        "outputId": "8a7705dd-51d0-42b1-f130-aa8a9f1bc9cf"
      },
      "execution_count": 7,
      "outputs": [
        {
          "output_type": "stream",
          "name": "stdout",
          "text": [
            "Test accuracy score for SVM classification is:  0.9826555023923444\n"
          ]
        }
      ]
    },
    {
      "cell_type": "code",
      "source": [
        "##Here, we finally classify using the Naïve Bayes library on our data.\n",
        "from sklearn.naive_bayes import GaussianNB\n",
        "\n",
        "nb = GaussianNB()\n",
        "nb.fit(X_train, y_train)\n",
        "\n",
        "y_pred_nb = nb.predict(X_test)\n",
        "\n",
        "print(\"Test accuracy score for Naive Bayes classification is: \",metrics.accuracy_score(y_test, y_pred_nb))"
      ],
      "metadata": {
        "colab": {
          "base_uri": "https://localhost:8080/"
        },
        "id": "2Ix6BkEEqgH4",
        "outputId": "6cdb83f4-93a4-4ead-c030-5354e41bae64"
      },
      "execution_count": 8,
      "outputs": [
        {
          "output_type": "stream",
          "name": "stdout",
          "text": [
            "Test accuracy score for Naive Bayes classification is:  0.9324162679425837\n"
          ]
        }
      ]
    },
    {
      "cell_type": "code",
      "source": [
        "## Likewise, by calling the confusion_matrix algorithm from the sklearn.metrics library, \n",
        "##we create confusion matrixes of the predictions we made above with different classifications.\n",
        "from sklearn.metrics import confusion_matrix, classification_report\n",
        "\n",
        "conf_mtrx_knn = confusion_matrix(y_test, y_pred_knn)\n",
        "conf_mtrx_svm = confusion_matrix(y_test, y_pred_svm)\n",
        "conf_mtrx_nb = confusion_matrix(y_test, y_pred_nb)\n",
        "\n",
        "classification_report_knn = classification_report(y_test, y_pred_knn)\n",
        "classification_report_svm = classification_report(y_test, y_pred_svm)\n",
        "classification_report_nb = classification_report(y_test, y_pred_nb)\n",
        "\n",
        "from matplotlib import pyplot as plt\n",
        "\n",
        "def plot_confusion_matrix(conf_mtrx, classes, cmap=plt.cm.Blues):\n",
        "    num_class = conf_mtrx.shape[0]\n",
        "\n",
        "    fig, ax = plt.subplots()\n",
        "    im = ax.imshow(conf_mtrx, interpolation='nearest', cmap=cmap)\n",
        "    ax.figure.colorbar(im, ax=ax)\n",
        "    ax.set(xticks=np.arange(num_class), yticks=np.arange(num_class),\n",
        "           xticklabels=classes, yticklabels=classes, \n",
        "           ylabel='True label', xlabel='Predicted label')\n",
        "\n",
        "    middle_threshold = conf_mtrx.max() / 2.\n",
        "    for row in range(num_class):\n",
        "        for col in range(num_class):\n",
        "            ax.text(col, row, format(conf_mtrx[row, col], '.0f'), ha=\"center\", va=\"center\",\n",
        "                    color=\"white\" if conf_mtrx[row, col] > middle_threshold else \"black\")\n",
        "    fig.tight_layout()\n",
        "    plt.show()\n",
        "\n"
      ],
      "metadata": {
        "id": "OeK0aFCHq6fY"
      },
      "execution_count": 9,
      "outputs": []
    },
    {
      "cell_type": "code",
      "source": [
        "\"\"\"First of all, if we talk about the Knn classification, FP=2, that is, 2 raw mails were incorrectly determined as spam, in addition to this, FN= 76, that is, 76 spam mails were estimated as raw. If a high-level institution were to use this mail service, it would be raw. An important mail that was determined as spam instead of spam could have been overlooked and caused a big problem. Considering that the purpose of the system is to identify spam, if we consider the values by taking the spam positive, precision=0.99 is a desired situation here.\n",
        " Detecting a raw mail instead of spam is a big problem We can assume that the cost will be low for the company.\"\"\"\n",
        "plot_confusion_matrix(conf_mtrx_knn, np.unique(df.target), cmap=plt.cm.Blues)\n",
        "print(classification_report_knn)"
      ],
      "metadata": {
        "colab": {
          "base_uri": "https://localhost:8080/",
          "height": 453
        },
        "id": "BS0WAewIrJ85",
        "outputId": "96ad7863-45d9-46dd-86fc-f02ab52e2c31"
      },
      "execution_count": 10,
      "outputs": [
        {
          "output_type": "display_data",
          "data": {
            "text/plain": [
              "<Figure size 432x288 with 2 Axes>"
            ],
            "image/png": "[encoded data removed]"
          },
          "metadata": {
            "needs_background": "light"
          }
        },
        {
          "output_type": "stream",
          "name": "stdout",
          "text": [
            "              precision    recall  f1-score   support\n",
            "\n",
            "         ham       0.95      1.00      0.97      1457\n",
            "        spam       0.99      0.65      0.78       215\n",
            "\n",
            "    accuracy                           0.95      1672\n",
            "   macro avg       0.97      0.82      0.88      1672\n",
            "weighted avg       0.95      0.95      0.95      1672\n",
            "\n"
          ]
        }
      ]
    },
    {
      "cell_type": "code",
      "source": [
        "plot_confusion_matrix(conf_mtrx_svm, np.unique(df.target), cmap=plt.cm.Blues)\n",
        "print(classification_report_svm)\n",
        "\"\"\"In the svm classifier, 3 raw mails are detected as spam, FP=3 and 26 spam mails are detected as raw mail, that is, FN = 26. When we look at these values, 3 mails will fall into the spam box. Likewise, 3 important mails for a large company. It can cause huge costs. Precision= 0.98 is a desired value because the cost of detecting raw mail as spam is high. \n",
        "Recall=0.88 is of course better if this value is higher, but we can assume that the cost is lower.\"\"\"\n",
        "\n"
      ],
      "metadata": {
        "colab": {
          "base_uri": "https://localhost:8080/",
          "height": 524
        },
        "id": "_BUjc6gerM9O",
        "outputId": "88ac28dc-eb8d-4d92-c763-43d8f7ac76ba"
      },
      "execution_count": 11,
      "outputs": [
        {
          "output_type": "display_data",
          "data": {
            "text/plain": [
              "<Figure size 432x288 with 2 Axes>"
            ],
            "image/png": "[encoded data removed]"
          },
          "metadata": {
            "needs_background": "light"
          }
        },
        {
          "output_type": "stream",
          "name": "stdout",
          "text": [
            "              precision    recall  f1-score   support\n",
            "\n",
            "         ham       0.98      1.00      0.99      1457\n",
            "        spam       0.98      0.88      0.93       215\n",
            "\n",
            "    accuracy                           0.98      1672\n",
            "   macro avg       0.98      0.94      0.96      1672\n",
            "weighted avg       0.98      0.98      0.98      1672\n",
            "\n"
          ]
        },
        {
          "output_type": "execute_result",
          "data": {
            "text/plain": [
              "'Svm classifierinda ise 3 adet ham mail spam  olarak algılanmış FP=3 ve 26 adet spam mail ham mail olarak algılanmış yani FN = 26. Bu değerlere baktığımızda 3 adet mail spam kutusuna düşecektir, Aynı şekilde büyük bir şirket için 3 adet önemli mail büyük maliyetlere sebebiyet verebilir. Precision= 0.98 değeri ham mailin spam olarak algılanma maliyeti yüksek olduğu için istenen bir değerdir. Recall=0.88 bu değerin yüksek olması tabiki daha iyidir fakat maliyeti daha düşük varsayabiliriz.'"
            ],
            "application/vnd.google.colaboratory.intrinsic+json": {
              "type": "string"
            }
          },
          "metadata": {},
          "execution_count": 11
        }
      ]
    },
    {
      "cell_type": "code",
      "source": [
        "plot_confusion_matrix(conf_mtrx_nb, np.unique(df.target), cmap=plt.cm.Blues)\n",
        "print(classification_report_nb)\n",
        "\"\"\"Here, there are 90 mails that are called Spam but are raw mails. \n",
        "FN=90. For a large company, we can think that raw mail that falls into 90 spam boxes is a very, very bad result. \n",
        "23 mails that are detected as raw are considered as spam. The cost is not very high compared to the situation we think.\n",
        " Precision= 0.68 this shows that more than 30% of the mails determined as spam are raw and as a result, it may cause high costs for companies. \n",
        " recall=0.89 shows the mails that are spam even though it is estimated as raw and in the scenario we established, it is large. there is no cost, but if this scenario changes, it is more important that spam mails do not fall into our mailbox, it can be evaluated differently.\n",
        "\n",
        "\"\"\"\n"
      ],
      "metadata": {
        "colab": {
          "base_uri": "https://localhost:8080/",
          "height": 558
        },
        "id": "T3Vz6YtTrOz_",
        "outputId": "d21fe4b6-6b3d-4596-db44-87b47af335cb"
      },
      "execution_count": 12,
      "outputs": [
        {
          "output_type": "display_data",
          "data": {
            "text/plain": [
              "<Figure size 432x288 with 2 Axes>"
            ],
            "image/png": "[encoded data removed]"
          },
          "metadata": {
            "needs_background": "light"
          }
        },
        {
          "output_type": "stream",
          "name": "stdout",
          "text": [
            "              precision    recall  f1-score   support\n",
            "\n",
            "         ham       0.98      0.94      0.96      1457\n",
            "        spam       0.68      0.89      0.77       215\n",
            "\n",
            "    accuracy                           0.93      1672\n",
            "   macro avg       0.83      0.92      0.87      1672\n",
            "weighted avg       0.94      0.93      0.94      1672\n",
            "\n"
          ]
        },
        {
          "output_type": "execute_result",
          "data": {
            "text/plain": [
              "'Burada Spam olarak adlandırılan fakat ham mail olan 90 adet mail vardır FN=90.Büyük bir şirket için 90 adet spam kutusuna düşen ham mail çok çok kötü bir sonuç olarak düşünebiliriz.23 adet ham olarak saptanan mail ise spam olarak geçmektedir. Bunun maliyeti düşündüğümüz duruma göre çok yüksek değildir. Precision= 0.68 bu spam olarak belirlenen maillerin %30 dan fazlasının ham olduğunu göstermektedir ve bunun sonucu şirketler için yüksek maliyetlere sebebiyet verebilir. recall=0.89 ham olarak tahmin edildiği halde spam olan mailleri gösterir ve kurduğumuz seneryoda bunun büyük bir maliyeti yoktur fakat eğer bu seneryo değişirde, spam maillerin mail kutumuza düşmemesi daha önemli olursa, farklı değerlendirilebilir.\\n\\n'"
            ],
            "application/vnd.google.colaboratory.intrinsic+json": {
              "type": "string"
            }
          },
          "metadata": {},
          "execution_count": 12
        }
      ]
    },
    {
      "cell_type": "markdown",
      "source": [
        "Here, there are 90 mails that are called Spam but are raw mails. FN=90. For a large company, 90 raw mails in spam boxes can be considered as a very, very bad result. 23 mails that are detected as raw are considered as spam. The cost of this is not very high compared to the situation we think. Precision= 0.68 shows that more than 30% of these emails identified as spam are raw, which can result in high costs for companies. recall=0.89 shows spam mails even though it is estimated as raw, and it does not cost a lot in the scenario we set up, but if this scenario changes, if it is more important that spam mails do not fall into our mailbox, it can be evaluated differently.\\n\\n"
      ],
      "metadata": {
        "id": "wzMGk13N0rGB"
      }
    },
    {
      "cell_type": "code",
      "execution_count": 13,
      "metadata": {
        "colab": {
          "base_uri": "https://localhost:8080/",
          "height": 388
        },
        "id": "X03P7-HNKwPx",
        "outputId": "8ca1c0a6-b9de-43ff-cdd4-35fe1758d988"
      },
      "outputs": [
        {
          "output_type": "execute_result",
          "data": {
            "text/plain": [
              "'Öncelikle 3 sınıflandırıcı karşılaştırırken, f1 scorlarından başlarsak \\nbayes :0.77 \\nSvm: 0.93  \\nKnn :  0.78  scorlarına sahiptir. F1 scoru bizim için önemli bir metriktir ve buraya bakılırsa Svm sınıflandırıcısını kullanmak daha iyi bir tercihtir. Buna ek olarak Svm ve Knn sınıflandırıcılarını karşılaştırıcak olursak, aslında 2 side maliyeti yüksek olan ham maili spam olarak algılamada yakın değerler bulmaktadır, fakat Svm sınıflandırıcısı, ham olarak belirlediği maillerde daha az hata yapmıştır ve bu yüzden tercih edilmiştir. Baştada bahsettiğim üzere, bu analiz ham mailin spam maili olarak görülmesi maliyetinin yüksek olduğu bir seneryodur.\\n\\nBunlara ek olarak ROC eğrilerini karşılaştıracak olursak, ROC eğrisi altında kalan alan en çok hangisinde ise o sınıflandırıcının daha iyi olduğunu biliyoruz, yukarıdada seçtiğimiz üzere Svm sınıflandırıcısı diğerlerinden daha çok alana sahiptir\\n'"
            ],
            "application/vnd.google.colaboratory.intrinsic+json": {
              "type": "string"
            }
          },
          "metadata": {},
          "execution_count": 13
        },
        {
          "output_type": "display_data",
          "data": {
            "text/plain": [
              "<Figure size 432x288 with 1 Axes>"
            ],
            "image/png": "[encoded data removed]"
          },
          "metadata": {
            "needs_background": "light"
          }
        }
      ],
      "source": [
        "## Algoritmalarimizin Roc egrilerini cizerek hangi algoritmanin daha iyi calistigini analizleyelim\n",
        "from sklearn.metrics import roc_curve\n",
        "from sklearn.metrics import auc\n",
        "import matplotlib.pyplot as plt\n",
        "\n",
        "plt.figure(0).clf()\n",
        "\n",
        "#converting ham spam strings to 0 and 1\n",
        "y_test_cv = [int(u in 'spam') for u in y_test]\n",
        "y_pred_knn_cv = [int(u in 'spam') for u in y_pred_knn]\n",
        "y_pred_svm_cv = [int(u in 'spam') for u in y_pred_svm]\n",
        "y_pred_nb_cv = [int(u in 'spam') for u in y_pred_nb]\n",
        "\n",
        "fpr, tpr,_ = metrics.roc_curve(y_test_cv, y_pred_knn_cv)\n",
        "auc = round(metrics.roc_auc_score(y_test_cv, y_pred_knn_cv), 4)\n",
        "plt.plot(fpr,tpr,label=\"KNN, AUC=\"+str(auc))\n",
        "\n",
        "fpr, tpr,_  = metrics.roc_curve(y_test_cv, y_pred_svm_cv)\n",
        "auc = round(metrics.roc_auc_score(y_test_cv, y_pred_svm_cv), 4)\n",
        "plt.plot(fpr,tpr,label=\"SVM, AUC=\"+str(auc))\n",
        "\n",
        "fpr, tpr,_  = metrics.roc_curve(y_test_cv, y_pred_nb_cv)\n",
        "auc = round(metrics.roc_auc_score(y_test_cv, y_pred_nb_cv), 4)\n",
        "plt.plot(fpr,tpr,label=\"NB, AUC=\"+str(auc))\n",
        "plt.plot([0, 1], [0, 1],'r--')\n",
        "\n",
        "plt.legend()\n",
        "\"\"\"When comparing 3 classifiers first, if we start with f1 scores\n",
        "bayes :0.77\n",
        "Svm: 0.93\n",
        "Knn: It has 0.78 scores. The F1 score is an important metric for us and judging from here it is a better choice to use the Svm classifier. In addition, if we compare the Svm and Knn classifiers, it actually finds close values in perceiving the raw mail, which has a high cost of 2 sides, as spam, but the Svm classifier made less mistakes in the mails it determined as raw, so it was preferred. As I mentioned at the beginning, this analysis is a scenario where the cost of seeing raw mail as spam mail is high.\n",
        "\n",
        "In addition to these, if we compare the ROC curves, we know which classifier has the most area under the ROC curve, as we have chosen above, the Svm classifier has more areas than the others.\n",
        "\"\"\""
      ]
    }
  ]
}